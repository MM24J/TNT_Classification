{
  "cells": [
    {
      "cell_type": "markdown",
      "id": "78ee4eb0-52c8-41fd-b92c-8d9975e70f8d",
      "metadata": {
        "id": "78ee4eb0-52c8-41fd-b92c-8d9975e70f8d"
      },
      "source": [
        "In this project, you will create a deep learning model that detects the TNt tubes formed in between cells. Below is a brief description of what TNTs are:\n",
        "\n",
        "\"Tunneling nanotubes (TNTs) are elongated structures extending from and connecting cancer cell membranes. They permit the exchange of molecules, vesicles, and mitochondria, as well as genetic and metabolic signals that promote carcinogenesis. Given that they permit intercellular trafficking and communication, TNTs may serve as an important imaging biomarker of cancer cell response vs. resistance to therapy. On fluorescence imaging of cancer cell cultures, TNTs appear to be no thicker than 1 µm and vary in length from 10 to 100+ µm. TNTs can be spotted by a trained eye, but using human experts to obtain an accurate count and location of TNTs is a time-intensive process. A precise quantitative analysis of TNTs could aid in the objective assessment of cancer response to various therapeutic interventions.\"\n",
        "\n",
        "In this project, the original images were created by taking a grid of 5 × 5 tiled images, each measuring 1388 × 1040 pixels, and then stitching them together. This process resulted in shadows along the stitched edges, which significantly degraded the model performance at later stages. You may start from removing these shadows. To remove those shadows, you may use BaSiC, an image correction method for background and shading correction for image sequences, available as a Fiji/ImageJ. You may consider other packages/lobraries for this purpose. You may also consider using different filters. You may check the following link: https://www.youtube.com/watch?v=xCHbcVUCYBI. You may find very useful short videos in that channel for image processing.\n",
        "\n",
        "After preprocessing, you may want to divide the original image into smaller pieces. The original image in the training dataset was stitched together resulting in an image - size of 6283 × 4687 pixels. You can scan the images  with a sliding window of 512 × 512 pixels with a stride of 10 pixels, extracting patches containing the TNT regions using a bounding box. You may write a function that takes the window size as input. You may later create smaller images from 512x512 images using the same function.\n",
        "\n",
        "Once you form training and test datasets from smaller images, you may simply train a VGG model. You may try different models. you goal is to find the images that contain TNTs. You may create multiple models that are trained with images with different sizes."
      ]
    },
    {
      "cell_type": "markdown",
      "id": "546cced9-060e-40cf-83fc-2004238821c9",
      "metadata": {
        "id": "546cced9-060e-40cf-83fc-2004238821c9"
      },
      "source": [
        "# Image Preprocessing"
      ]
    },
    {
      "cell_type": "code",
      "execution_count": 37,
      "id": "6abf194f-e772-43c2-a74d-39c1b0c2b422",
      "metadata": {
        "colab": {
          "base_uri": "https://localhost:8080/"
        },
        "id": "6abf194f-e772-43c2-a74d-39c1b0c2b422",
        "outputId": "e1ee05f9-082e-4c42-c085-6047e0216314"
      },
      "outputs": [
        {
          "name": "stdout",
          "output_type": "stream",
          "text": [
            "Drive already mounted at /content/drive; to attempt to forcibly remount, call drive.mount(\"/content/drive\", force_remount=True).\n"
          ]
        }
      ],
      "source": [
        "# Mount Google Drive\n",
        "from google.colab import drive\n",
        "drive.mount('/content/drive')\n"
      ]
    },
    {
      "cell_type": "code",
      "execution_count": 38,
      "id": "nhFNhDo0ra1U",
      "metadata": {
        "id": "nhFNhDo0ra1U"
      },
      "outputs": [],
      "source": [
        "# Define consistent paths\n",
        "import os\n",
        "import shutil\n",
        "from PIL import Image\n",
        "import numpy as np\n",
        "import cv2\n",
        "from tqdm import tqdm\n",
        "\n",
        "# Paths\n",
        "base_drive_path = \"/content/drive/MyDrive/Mentorship_DL_Module/Second Projects/TNT Project\"\n",
        "base_colab_path = \"/content/TNT_Project\"\n"
      ]
    },
    {
      "cell_type": "markdown",
      "id": "057bfaa6-3186-4473-975c-908c514af6f4",
      "metadata": {
        "id": "057bfaa6-3186-4473-975c-908c514af6f4"
      },
      "source": [
        "- Create folders to save the images that are created by splitting the main image into smaller pieces\n"
      ]
    },
    {
      "cell_type": "code",
      "execution_count": 39,
      "id": "sAyt1BoLwMnn",
      "metadata": {
        "id": "sAyt1BoLwMnn"
      },
      "outputs": [],
      "source": [
        "# Create necessary directories\n",
        "labeled_dir = os.path.join(base_colab_path, \"labeled\")\n",
        "os.makedirs(os.path.join(labeled_dir, \"1\"), exist_ok=True)  # TNT patches\n",
        "os.makedirs(os.path.join(labeled_dir, \"0\"), exist_ok=True)  # No-TNT patches"
      ]
    },
    {
      "cell_type": "code",
      "execution_count": 40,
      "id": "ZCgoIr1urTZB",
      "metadata": {
        "colab": {
          "base_uri": "https://localhost:8080/",
          "height": 35
        },
        "id": "ZCgoIr1urTZB",
        "outputId": "58c8206a-a146-4a83-a273-d6d615ebff76"
      },
      "outputs": [
        {
          "data": {
            "application/vnd.google.colaboratory.intrinsic+json": {
              "type": "string"
            },
            "text/plain": [
              "'/content/TNT_Project/m05-label.png'"
            ]
          },
          "execution_count": 40,
          "metadata": {},
          "output_type": "execute_result"
        }
      ],
      "source": [
        "# Copy images from Drive\n",
        "shutil.copy(os.path.join(base_drive_path, \"m05.png\"), base_colab_path)\n",
        "shutil.copy(os.path.join(base_drive_path, \"m05-label.png\"), base_colab_path)\n"
      ]
    },
    {
      "cell_type": "code",
      "execution_count": 41,
      "id": "4poPZ27bQ_tz",
      "metadata": {
        "id": "4poPZ27bQ_tz"
      },
      "outputs": [],
      "source": [
        "# Load images\n",
        "image_path = os.path.join(base_colab_path, \"m05.png\")  # Unlabeled image\n",
        "label_image_path = os.path.join(base_colab_path, \"m05-label.png\")  # Labeled image\n",
        "\n",
        "pil_image = Image.open(image_path).convert(\"L\")\n",
        "image = np.array(pil_image)\n",
        "label_image = np.array(Image.open(label_image_path).convert(\"L\"))"
      ]
    },
    {
      "cell_type": "markdown",
      "id": "81f38b1d-6fe9-4d33-b6be-521c030615fd",
      "metadata": {
        "id": "81f38b1d-6fe9-4d33-b6be-521c030615fd"
      },
      "source": [
        "- Create smaller pieces from the main image by moving a window along the image. Mark the pieces with TNTs as 1 and all others as 0. This will give you the labeled images for your classification model."
      ]
    },
    {
      "cell_type": "code",
      "execution_count": 42,
      "id": "a1DuFjDPRKY2",
      "metadata": {
        "id": "a1DuFjDPRKY2"
      },
      "outputs": [],
      "source": [
        "# Define patch size and stride\n",
        "window_size, stride = 512, 512\n",
        "height, width = image.shape\n",
        "patch_count = 0"
      ]
    },
    {
      "cell_type": "code",
      "execution_count": 43,
      "id": "BM0V3-mrxVy6",
      "metadata": {
        "colab": {
          "base_uri": "https://localhost:8080/"
        },
        "id": "BM0V3-mrxVy6",
        "outputId": "52a22c8b-3997-42b7-b922-0934c3a61ef6"
      },
      "outputs": [
        {
          "name": "stderr",
          "output_type": "stream",
          "text": [
            "100%|██████████| 9/9 [00:00<00:00, 14.39it/s]"
          ]
        },
        {
          "name": "stdout",
          "output_type": "stream",
          "text": [
            "✅ Successfully extracted and labeled 108 patches!\n"
          ]
        },
        {
          "name": "stderr",
          "output_type": "stream",
          "text": [
            "\n"
          ]
        }
      ],
      "source": [
        "# Define patch size and stride\n",
        "window_size, stride = 512, 512  # You might want to experiment with different values\n",
        "height, width = image.shape\n",
        "patch_count = 0\n",
        "\n",
        "# Extract and label patches in a single loop\n",
        "for y in tqdm(range(0, height - window_size + 1, stride)):\n",
        "    for x in range(0, width - window_size + 1, stride):\n",
        "        # Extract patch from main image\n",
        "        patch = image[y:y+window_size, x:x+window_size]\n",
        "\n",
        "        # Extract corresponding label patch\n",
        "        label_patch = label_image[y:y+window_size, x:x+window_size]\n",
        "\n",
        "        # Calculate the percentage of white pixels (TNTs are white in the label image)\n",
        "        white_pixel_percentage = np.sum(label_patch == 255) / label_patch.size * 100\n",
        "\n",
        "        # Adjust the threshold as needed - This value might need fine-tuning\n",
        "        label_folder = \"1\" if white_pixel_percentage > 2 else \"0\"\n",
        "\n",
        "        # Save patch directly to labeled folder\n",
        "        patch_filename = f\"patch_{patch_count:06d}.png\"\n",
        "        patch_path = os.path.join(labeled_dir, label_folder, patch_filename)\n",
        "        cv2.imwrite(patch_path, patch)\n",
        "\n",
        "        patch_count += 1\n",
        "\n",
        "print(f\"✅ Successfully extracted and labeled {patch_count} patches!\")\n"
      ]
    },
    {
      "cell_type": "code",
      "execution_count": 44,
      "id": "b2rrRiffV2oF",
      "metadata": {
        "colab": {
          "base_uri": "https://localhost:8080/"
        },
        "id": "b2rrRiffV2oF",
        "outputId": "bdc4d01a-0ee9-4ac0-8096-276181606d03"
      },
      "outputs": [
        {
          "name": "stdout",
          "output_type": "stream",
          "text": [
            "{'0': 0, '1': 1}\n",
            "{'0': 0, '1': 1}\n"
          ]
        }
      ],
      "source": [
        "print(train_gen.class_indices)  # Should output: {'0': 0, '1': 1}\n",
        "print(val_gen.class_indices)    # Should output: {'0': 0, '1': 1}\n"
      ]
    },
    {
      "cell_type": "code",
      "execution_count": 45,
      "id": "Ci_xKK_XXPpy",
      "metadata": {
        "colab": {
          "base_uri": "https://localhost:8080/"
        },
        "id": "Ci_xKK_XXPpy",
        "outputId": "ee6125bf-9614-4be4-924f-d3a52dbf8a77"
      },
      "outputs": [
        {
          "name": "stdout",
          "output_type": "stream",
          "text": [
            "Training class distribution: {1: 87}\n",
            "Validation class distribution: {1: 21}\n"
          ]
        }
      ],
      "source": [
        "print(\"Training class distribution:\", dict(zip(*np.unique(train_gen.classes, return_counts=True))))\n",
        "print(\"Validation class distribution:\", dict(zip(*np.unique(val_gen.classes, return_counts=True))))\n"
      ]
    },
    {
      "cell_type": "code",
      "execution_count": 46,
      "id": "Wt3Qd8EEXqaP",
      "metadata": {
        "colab": {
          "base_uri": "https://localhost:8080/"
        },
        "id": "Wt3Qd8EEXqaP",
        "outputId": "3aac391b-5437-4d27-f775-3996239297af"
      },
      "outputs": [
        {
          "name": "stdout",
          "output_type": "stream",
          "text": [
            "✅ Balanced dataset: 108 TNT patches, 108 No-TNT patches\n",
            "✅ After balancing: 108 TNT patches, 108 No-TNT patches\n"
          ]
        }
      ],
      "source": [
        "import random\n",
        "import shutil\n",
        "import os\n",
        "\n",
        "# Define paths\n",
        "tnt_dir = os.path.join(labeled_dir, \"1\")\n",
        "no_tnt_dir = os.path.join(labeled_dir, \"0\")\n",
        "\n",
        "# Get file lists\n",
        "tnt_files = os.listdir(tnt_dir)\n",
        "no_tnt_files = os.listdir(no_tnt_dir)\n",
        "\n",
        "# Ensure we have both classes\n",
        "if len(no_tnt_files) == 0:\n",
        "    raise ValueError(\"No No-TNT patches found! Ensure extracted both TNT and No-TNT patches.\")\n",
        "\n",
        "# Balance the dataset before splitting\n",
        "num_patches = min(len(tnt_files), len(no_tnt_files))  # Get min count to balance\n",
        "tnt_files = random.sample(tnt_files, num_patches)\n",
        "no_tnt_files = random.sample(no_tnt_files, num_patches)\n",
        "\n",
        "print(f\"✅ Balanced dataset: {num_patches} TNT patches, {num_patches} No-TNT patches\")\n",
        "\n",
        "# Move extra files to a backup folder instead of deleting them\n",
        "backup_dir = os.path.join(base_colab_path, \"backup\")\n",
        "os.makedirs(backup_dir, exist_ok=True)\n",
        "\n",
        "for f in os.listdir(tnt_dir):\n",
        "    if f not in tnt_files:\n",
        "        shutil.move(os.path.join(tnt_dir, f), os.path.join(backup_dir, f))\n",
        "\n",
        "for f in os.listdir(no_tnt_dir):\n",
        "    if f not in no_tnt_files:\n",
        "        shutil.move(os.path.join(no_tnt_dir, f), os.path.join(backup_dir, f))\n",
        "\n",
        "print(f\"✅ After balancing: {len(tnt_files)} TNT patches, {len(no_tnt_files)} No-TNT patches\")\n"
      ]
    },
    {
      "cell_type": "code",
      "execution_count": 47,
      "id": "K4g7ceIjyj79",
      "metadata": {
        "id": "K4g7ceIjyj79"
      },
      "outputs": [],
      "source": [
        "# Train VGG16 Model\n",
        "import tensorflow as tf\n",
        "from tensorflow.keras.applications import VGG16\n",
        "from tensorflow.keras.layers import Dense, Flatten, Dropout\n",
        "from tensorflow.keras.models import Model\n",
        "from tensorflow.keras.preprocessing.image import ImageDataGenerator\n",
        "from tensorflow.keras.callbacks import EarlyStopping, ModelCheckpoint\n",
        "from tensorflow.keras.metrics import AUC\n",
        "from tensorflow.keras.metrics import Precision, Recall\n",
        "batch_size, image_size = 8, (224, 224)\n",
        "\n"
      ]
    },
    {
      "cell_type": "code",
      "execution_count": 48,
      "id": "9P233ekFyqjW",
      "metadata": {
        "colab": {
          "base_uri": "https://localhost:8080/"
        },
        "id": "9P233ekFyqjW",
        "outputId": "0e8298ce-518b-437a-be77-2b5a2fa37bf5"
      },
      "outputs": [
        {
          "name": "stdout",
          "output_type": "stream",
          "text": [
            "Found 174 images belonging to 2 classes.\n",
            "Found 42 images belonging to 2 classes.\n"
          ]
        }
      ],
      "source": [
        "# Data generators\n",
        "datagen = ImageDataGenerator(rescale=1./255, validation_split=0.2)\n",
        "train_gen = datagen.flow_from_directory(\n",
        "    labeled_dir,\n",
        "    target_size=(224, 224),\n",
        "    batch_size=8,\n",
        "    class_mode='binary',\n",
        "    subset='training'  # Training data\n",
        ")\n",
        "val_gen = datagen.flow_from_directory(\n",
        "    labeled_dir,\n",
        "    target_size=(224, 224),\n",
        "    batch_size=8,\n",
        "    class_mode='binary',\n",
        "    subset='validation'  # Validation data\n",
        ")"
      ]
    },
    {
      "cell_type": "code",
      "execution_count": 49,
      "id": "oEB7UPV8YVih",
      "metadata": {
        "colab": {
          "base_uri": "https://localhost:8080/"
        },
        "id": "oEB7UPV8YVih",
        "outputId": "dd4e2b6a-ca7b-4048-866f-ff23fcd5774c"
      },
      "outputs": [
        {
          "name": "stdout",
          "output_type": "stream",
          "text": [
            "Training class distribution: {0: 87, 1: 87}\n",
            "Validation class distribution: {0: 21, 1: 21}\n"
          ]
        }
      ],
      "source": [
        "print(\"Training class distribution:\", dict(zip(*np.unique(train_gen.classes, return_counts=True))))\n",
        "print(\"Validation class distribution:\", dict(zip(*np.unique(val_gen.classes, return_counts=True))))\n"
      ]
    },
    {
      "cell_type": "code",
      "execution_count": 50,
      "id": "VSjQ9vkiy5PV",
      "metadata": {
        "id": "VSjQ9vkiy5PV"
      },
      "outputs": [],
      "source": [
        "# Model Setup\n",
        "vgg_model = VGG16(include_top=False, pooling='avg', weights='imagenet', input_shape=(224, 224, 3))\n",
        "for layer in vgg_model.layers[:-2]: layer.trainable = False\n",
        "\n",
        "x = Flatten()(vgg_model.output)\n",
        "x = Dense(256, activation='relu')(x)\n",
        "x = Dropout(0.5)(x)\n",
        "output = Dense(1, activation='sigmoid')(x)\n",
        "\n",
        "model = Model(inputs=vgg_model.input, outputs=output)\n",
        "model.compile(optimizer='adam', loss='binary_crossentropy', metrics=['accuracy', Precision(name='precision'), Recall(name='recall')])"
      ]
    },
    {
      "cell_type": "code",
      "execution_count": 51,
      "id": "H6WhI9uK381j",
      "metadata": {
        "colab": {
          "base_uri": "https://localhost:8080/"
        },
        "id": "H6WhI9uK381j",
        "outputId": "15cdf99e-8028-45b8-85a1-658924bd3667"
      },
      "outputs": [
        {
          "name": "stdout",
          "output_type": "stream",
          "text": [
            "Epoch 1/3\n"
          ]
        },
        {
          "name": "stderr",
          "output_type": "stream",
          "text": [
            "/usr/local/lib/python3.11/dist-packages/keras/src/trainers/data_adapters/py_dataset_adapter.py:121: UserWarning: Your `PyDataset` class should call `super().__init__(**kwargs)` in its constructor. `**kwargs` can include `workers`, `use_multiprocessing`, `max_queue_size`. Do not pass these arguments to `fit()`, as they will be ignored.\n",
            "  self._warn_if_super_not_called()\n"
          ]
        },
        {
          "name": "stdout",
          "output_type": "stream",
          "text": [
            "\u001b[1m 22/250\u001b[0m \u001b[32m━\u001b[0m\u001b[37m━━━━━━━━━━━━━━━━━━━\u001b[0m \u001b[1m17:46\u001b[0m 5s/step - accuracy: 0.4529 - loss: 0.7297 - precision: 0.5099 - recall: 0.5679"
          ]
        },
        {
          "name": "stderr",
          "output_type": "stream",
          "text": [
            "/usr/local/lib/python3.11/dist-packages/keras/src/trainers/epoch_iterator.py:107: UserWarning: Your input ran out of data; interrupting training. Make sure that your dataset or generator can generate at least `steps_per_epoch * epochs` batches. You may need to use the `.repeat()` function when building your dataset.\n",
            "  self._interrupted_warning()\n"
          ]
        },
        {
          "name": "stdout",
          "output_type": "stream",
          "text": [
            "\b\b\b\b\b\b\b\b\b\b\b\b\b\b\b\b\b\b\b\b\b\b\b\b\b\b\b\b\b\b\b\b\b\b\b\b\b\b\b\b\b\b\b\b\b\b\b\b\b\b\b\b\b\b\b\b\b\b\b\b\b\b\b\b\b\b\b\b\b\b\b\b\b\b\b\b\b\b\b\b\b\b\b\b\b\b\b\b\b\b\b\b\b\b\b\b\b\b\b\b\b\b\b\b\b\b\b\b\b\b\b\b\b\r\u001b[1m250/250\u001b[0m \u001b[32m━━━━━━━━━━━━━━━━━━━━\u001b[0m\u001b[37m\u001b[0m \u001b[1m132s\u001b[0m 499ms/step - accuracy: 0.4854 - loss: 0.7159 - precision: 0.4900 - recall: 0.4798 - val_accuracy: 0.5000 - val_loss: 0.6974 - val_precision: 0.5000 - val_recall: 0.0476\n",
            "Epoch 2/3\n",
            "\u001b[1m250/250\u001b[0m \u001b[32m━━━━━━━━━━━━━━━━━━━━\u001b[0m\u001b[37m\u001b[0m \u001b[1m130s\u001b[0m 497ms/step - accuracy: 0.4599 - loss: 0.7537 - precision: 0.4508 - recall: 0.3833 - val_accuracy: 0.5000 - val_loss: 0.6954 - val_precision: 0.5000 - val_recall: 0.9524\n",
            "Epoch 3/3\n",
            "\u001b[1m250/250\u001b[0m \u001b[32m━━━━━━━━━━━━━━━━━━━━\u001b[0m\u001b[37m\u001b[0m \u001b[1m138s\u001b[0m 491ms/step - accuracy: 0.5052 - loss: 0.7272 - precision: 0.5074 - recall: 0.7038 - val_accuracy: 0.5000 - val_loss: 0.7222 - val_precision: 0.0000e+00 - val_recall: 0.0000e+00\n"
          ]
        },
        {
          "data": {
            "text/plain": [
              "<keras.src.callbacks.history.History at 0x799e48ab60d0>"
            ]
          },
          "execution_count": 51,
          "metadata": {},
          "output_type": "execute_result"
        }
      ],
      "source": [
        "# Train with early stopping\n",
        "callbacks = [\n",
        "    EarlyStopping(monitor='val_loss', patience=3, restore_best_weights=True),\n",
        "    ModelCheckpoint(os.path.join(base_colab_path, \"best_tnt_model.keras\"), save_best_only=True)\n",
        "]\n",
        "model.fit(train_gen, validation_data=val_gen, epochs=3, steps_per_epoch=250, validation_steps=50, callbacks=callbacks)"
      ]
    },
    {
      "cell_type": "code",
      "execution_count": 54,
      "id": "UR3_nqdW4Glu",
      "metadata": {
        "id": "UR3_nqdW4Glu"
      },
      "outputs": [],
      "source": [
        "# Prediction on new images\n",
        "model = tf.keras.models.load_model(os.path.join(base_colab_path, \"best_tnt_model.keras\"))"
      ]
    },
    {
      "cell_type": "code",
      "execution_count": 55,
      "id": "uKuxZ4cV-FhQ",
      "metadata": {
        "colab": {
          "base_uri": "https://localhost:8080/"
        },
        "id": "uKuxZ4cV-FhQ",
        "outputId": "71419cb8-eaf8-43f3-e2c7-d5f1f52eddec"
      },
      "outputs": [
        {
          "name": "stdout",
          "output_type": "stream",
          "text": [
            "\u001b[1m1/1\u001b[0m \u001b[32m━━━━━━━━━━━━━━━━━━━━\u001b[0m\u001b[37m\u001b[0m \u001b[1m1s\u001b[0m 720ms/step\n",
            "TNT Detected\n"
          ]
        }
      ],
      "source": [
        "# Predict example image\n",
        "import random\n",
        "test_image_path = os.path.join(base_colab_path, \"labeled\", \"1\", random.choice(os.listdir(os.path.join(labeled_dir, \"1\"))))\n",
        "test_img = cv2.imread(test_image_path)\n",
        "test_img = cv2.resize(test_img, (224, 224)).astype('float32') / 255.0\n",
        "prediction = model.predict(np.expand_dims(test_img, axis=0))[0][0]\n",
        "print(\"TNT Detected\" if prediction > 0.5 else \"No TNT Detected\")\n",
        "\n"
      ]
    }
  ],
  "metadata": {
    "accelerator": "GPU",
    "colab": {
      "gpuType": "T4",
      "provenance": []
    },
    "kernelspec": {
      "display_name": "Python 3",
      "name": "python3"
    },
    "language_info": {
      "codemirror_mode": {
        "name": "ipython",
        "version": 3
      },
      "file_extension": ".py",
      "mimetype": "text/x-python",
      "name": "python",
      "nbconvert_exporter": "python",
      "pygments_lexer": "ipython3",
      "version": "3.11.4"
    }
  },
  "nbformat": 4,
  "nbformat_minor": 5
}
